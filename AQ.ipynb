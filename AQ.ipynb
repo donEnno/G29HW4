{
 "cells": [
  {
   "cell_type": "markdown",
   "id": "261064f1",
   "metadata": {},
   "source": [
    "**Important information from assignment**\n",
    "\n",
    "* Regarding one entry, the entrance will be opened right before the first student’s arrival and closed right after the arrival of the last student that should enter through that specific entrance. \n",
    "* We will assume that two students can not enter the university simultaneously. For an entry to be protected, a guard should be assigned to it. \n",
    "* Notice that a guard cannot leave his post until the door he was given is closed."
   ]
  },
  {
   "cell_type": "code",
   "execution_count": 9,
   "id": "f4654024",
   "metadata": {},
   "outputs": [],
   "source": [
    "# libraries\n",
    "import numpy as np\n",
    "import itertools"
   ]
  },
  {
   "cell_type": "markdown",
   "id": "b205a9f9",
   "metadata": {},
   "source": [
    "## Algorithm \n",
    "\n",
    "Our algorithm consist of two functions\n",
    "* **Overlap:** The overlap function determines the maximum overlap at the same time between a list of ranges. We use this to determine the maximum number of guards that is needed at the same time. The input for this function will be lists of ranges where each range represents the starting and ending point in time of which an entrance needs to be guarded.\n",
    "\n",
    "* **enough_guards:** This function first determines the first student that enters a certain entrance and the last student that enters that entrance. This list of ranges is used as input for the 'overlap' function. \n",
    "The output of the overlap function is compared with the number of guards to see if there are enough guards. If there are not enough guards, the variable 'enough' will be changed to NO. The output of this function is the variable 'enough'.\n",
    "\n",
    "\n",
    "The running time of the overlap function is O(2n) with n = number of used entrances. The running time of the enough_guards function is O(n) + running time overlap function with n = number of students."
   ]
  },
  {
   "cell_type": "code",
   "execution_count": 17,
   "id": "d89e18de",
   "metadata": {},
   "outputs": [],
   "source": [
    "# Function that print maximum overlap at the same time among ranges\n",
    "def overlap(lst):\n",
    " \n",
    "    # variable to store the maximum count\n",
    "    maxvalue = 0\n",
    "    count = 0\n",
    "    data = []\n",
    " \n",
    "    # storing begin and end number with the correct label\n",
    "    for i in range(len(lst)):\n",
    " \n",
    "        # save the begin entrance\n",
    "        data.append([lst[i][0], 'begin'])\n",
    " \n",
    "        # save the end entrance\n",
    "        data.append([lst[i][1], 'end'])\n",
    " \n",
    "    # sorting of ranges\n",
    "    data = sorted(data)\n",
    "     \n",
    "    # loop over the datapoints to count overlap\n",
    "    for i in range(len(data)):\n",
    " \n",
    "        # if begin occur it means a new range\n",
    "        # is added so we increase count\n",
    "        if (data[i][1] == 'begin'):\n",
    "            count += 1\n",
    " \n",
    "        # if end occur it means a range\n",
    "        # is ended so we decrease count\n",
    "        if (data[i][1] == 'end'):\n",
    "            count -= 1\n",
    " \n",
    "        # updating the maxvalue\n",
    "        maxvalue = max(maxvalue, count)\n",
    " \n",
    "    # return the maximum value\n",
    "    return maxvalue"
   ]
  },
  {
   "cell_type": "code",
   "execution_count": 5,
   "id": "37d146a7",
   "metadata": {},
   "outputs": [],
   "source": [
    "def enough_guards(entrance, student, guard, entrance_lst):\n",
    "\n",
    "  # initialize enough that changes if there are not enough guards\n",
    "    enough = 'YES'\n",
    "\n",
    "  # create new array to save begin student and end student of entrance\n",
    "    arr = np.empty(shape=(entrance, 2))\n",
    "    arr[:] = np.NaN\n",
    "  \n",
    "  # loop over students to find first arrival student and last arrival student\n",
    "  # for every entrance. Save the number of first student and last student\n",
    "    for i in range(student):\n",
    "        arr[entrance_lst[i]-1][1] = i  \n",
    "        # Check if a student already has entered\n",
    "        if np.isnan(arr[entrance_lst[i]-1][0]):\n",
    "            arr[entrance_lst[i]-1][0] = i\n",
    "\n",
    "    # clean array and remove the entrances that are not used.\n",
    "    arr = arr[~np.isnan(arr).any(axis=1)].astype(int)\n",
    "\n",
    "    # check how many entrees overlap  \n",
    "    guards_needed = overlap(arr)\n",
    "\n",
    "    #check if there are enough guards by comparing max guards with actual nr of guards\n",
    "    if int(guards_needed) > int(guard):\n",
    "        enough = 'NO'\n",
    "\n",
    "    return enough"
   ]
  },
  {
   "cell_type": "markdown",
   "id": "ba58725b",
   "metadata": {},
   "source": [
    "The code below defines the input and runs the function\n"
   ]
  },
  {
   "cell_type": "code",
   "execution_count": 13,
   "id": "d0607761",
   "metadata": {},
   "outputs": [
    {
     "name": "stdout",
     "output_type": "stream",
     "text": [
      "2 5 1\n",
      "1 2 1 2 2\n"
     ]
    }
   ],
   "source": [
    "# define number entrances, number of students, number of guards.\n",
    "N, M, G = map(int, input().rstrip().split())\n",
    "\n",
    "# list of entrance per student\n",
    "entrance_lst = list(map(int, input().rstrip().split()))\n"
   ]
  },
  {
   "cell_type": "code",
   "execution_count": 18,
   "id": "2bb71bf9",
   "metadata": {},
   "outputs": [
    {
     "data": {
      "text/plain": [
       "'NO'"
      ]
     },
     "execution_count": 18,
     "metadata": {},
     "output_type": "execute_result"
    }
   ],
   "source": [
    "# check if there are enough guards\n",
    "enough_guards(N, M, G, entrance_lst)"
   ]
  }
 ],
 "metadata": {
  "kernelspec": {
   "display_name": "Python 3 (ipykernel)",
   "language": "python",
   "name": "python3"
  },
  "language_info": {
   "codemirror_mode": {
    "name": "ipython",
    "version": 3
   },
   "file_extension": ".py",
   "mimetype": "text/x-python",
   "name": "python",
   "nbconvert_exporter": "python",
   "pygments_lexer": "ipython3",
   "version": "3.8.5"
  }
 },
 "nbformat": 4,
 "nbformat_minor": 5
}
