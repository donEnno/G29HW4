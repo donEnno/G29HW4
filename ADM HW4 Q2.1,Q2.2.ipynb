{
 "cells": [
  {
   "cell_type": "code",
   "execution_count": 1,
   "id": "3fdecf7c",
   "metadata": {},
   "outputs": [],
   "source": [
    "#imports\n",
    "import pandas as pd\n",
    "import numpy as np\n",
    "import statistics\n",
    "from statistics import mode\n",
    "from datetime import datetime,date,timedelta\n",
    "import random\n",
    "from scipy import stats\n"
   ]
  },
  {
   "cell_type": "code",
   "execution_count": 2,
   "id": "0bb39c0c",
   "metadata": {},
   "outputs": [],
   "source": [
    "pd.set_option('display.max_rows', None)"
   ]
  },
  {
   "cell_type": "markdown",
   "id": "f2e78851",
   "metadata": {},
   "source": [
    "# 2. Grouping customers together!\n",
    "    "
   ]
  },
  {
   "cell_type": "markdown",
   "id": "3aec5c50",
   "metadata": {},
   "source": [
    "Now we will deal with clustering algorithms that will provide groups of clients which are similar among them.\n",
    "\n",
    "To solve this task, you must accomplish the following stages:"
   ]
  },
  {
   "cell_type": "markdown",
   "id": "e169dc83",
   "metadata": {},
   "source": [
    "# 2.1 Getting your data + feature engineering\n"
   ]
  },
  {
   "cell_type": "markdown",
   "id": "327be6e5",
   "metadata": {},
   "source": [
    "###### 1.Access to the data found in this dataset (it is the same dataset from the previous question 1.1)."
   ]
  },
  {
   "cell_type": "markdown",
   "id": "e3ee3b59",
   "metadata": {},
   "source": [
    "###### Organising the data"
   ]
  },
  {
   "cell_type": "code",
   "execution_count": 3,
   "id": "cc5ab967",
   "metadata": {},
   "outputs": [],
   "source": [
    "df=pd.read_csv(r\"C:\\Users\\PC\\Desktop\\bank_transactions.csv\") #reading the data\n",
    "df = df.dropna() #Dropping NaN values\n",
    "df=df[50000:] #I dont have enough memory to run all the data"
   ]
  },
  {
   "cell_type": "code",
   "execution_count": 4,
   "id": "133a7922",
   "metadata": {},
   "outputs": [],
   "source": [
    "#Later I will change all 1/1/1800 to random dates\n",
    "#I changed all '1/1/1800' DOB's with \"1/4/00\" because there were no \"1/4/00\" in data and it prevents the later error that is \n",
    "#raised because of the date not fitting the format \"%d/%m/%y\". \n",
    "df.loc[df['CustomerDOB'] == '1/1/1800','CustomerDOB']=df['CustomerDOB'].apply(lambda x: \"1/4/00\")\n",
    "\n"
   ]
  },
  {
   "cell_type": "code",
   "execution_count": 5,
   "id": "3a894f72",
   "metadata": {},
   "outputs": [],
   "source": [
    "#Changing TransactionDate column from string to datetime object\n",
    "df[\"TransactionDate\"]= df.apply(lambda row: datetime.strptime(row.TransactionDate, \"%d/%m/%y\"), axis=1)\n",
    "#Changing CustomerDOB column from string to datetime object\n",
    "df[\"CustomerDOB\"]= df.apply(lambda row: datetime.strptime(row.CustomerDOB, \"%d/%m/%y\"), axis=1)\n",
    "\n"
   ]
  },
  {
   "cell_type": "code",
   "execution_count": 6,
   "id": "d6fa71ab",
   "metadata": {},
   "outputs": [],
   "source": [
    "#In india minimum age for opening a bank account is 18 so If some year values are bigger than 2004 they are probably people who\n",
    "#really are born after 1904 and this requires an offset\n",
    "df.loc[df.CustomerDOB.dt.year > 2004, 'CustomerDOB'] = df.loc[df.CustomerDOB.dt.year > 2004, 'CustomerDOB'] - pd.DateOffset(years = 100)\n"
   ]
  },
  {
   "cell_type": "code",
   "execution_count": 7,
   "id": "a0925262",
   "metadata": {},
   "outputs": [],
   "source": [
    "LastDOB = df[\"CustomerDOB\"].max()\n",
    "FirstDOB= df[\"CustomerDOB\"].min()\n",
    "\n",
    "#This function Creates a random date between the first date of birth and the last date of birth of people in data\n",
    "def RandomDate(FirstDOB,LastDOB):\n",
    "    DOBPeriod=LastDOB-FirstDOB\n",
    "    RandomDayCount=random.randint(0,DOBPeriod.days)\n",
    "    randomdate=FirstDOB+timedelta(days=RandomDayCount)\n",
    "    return randomdate\n",
    "\n",
    "\n"
   ]
  },
  {
   "cell_type": "code",
   "execution_count": 8,
   "id": "d1b81244",
   "metadata": {},
   "outputs": [],
   "source": [
    "#By this code the values equal to 1/1/1800 which were changed into 1/4/00 are replaced by random dates between the first date\n",
    "#of birth and the last date of birth of people in data. I think distributing faulty date randomly is logical because\n",
    "#there will be no false importance for any date. \n",
    "df.loc[df['CustomerDOB'] == \"1/4/00\",'CustomerDOB']=df['CustomerDOB'].apply(lambda x: RandomDate(FirstDOB,LastDOB))\n"
   ]
  },
  {
   "cell_type": "markdown",
   "id": "e77cc7b9",
   "metadata": {},
   "source": [
    "### 2.Sometimes, the features (variables, fields) are not given in a dataset but can be created from it. The previous step is known as feature engineering. For example, the original dataset has several transactions done by the same customer.Then, we suggest you to group data by the client (using CustomerId) and, based on it, create the following new features for each CustomerId:\n",
    "\n",
    "a) Number of transactions\n",
    "\n",
    "b) Number of transactions with a balance bigger than 100 USD\n",
    "\n",
    "c) Average amount of the transactions\n",
    "\n",
    "d) Average balance\n",
    "\n",
    "e) Average difference between the balance and the transaction amount for each customer (this is mainly known in the banking world as utilisation).\n",
    "\n",
    "f) Most common gender of the customer\n",
    "\n",
    "h) Most frequent location of the customer\n",
    "\n",
    "So, in the end, you should have for each CustomerID seven features.\n",
    "\n"
   ]
  },
  {
   "cell_type": "code",
   "execution_count": 9,
   "id": "3771ad2b",
   "metadata": {},
   "outputs": [],
   "source": [
    "check=df.sort_values(by=[\"CustAccountBalance\"],ascending=False)[:1000]"
   ]
  },
  {
   "cell_type": "code",
   "execution_count": 10,
   "id": "58142d90",
   "metadata": {
    "scrolled": false
   },
   "outputs": [
    {
     "data": {
      "text/html": [
       "<div>\n",
       "<style scoped>\n",
       "    .dataframe tbody tr th:only-of-type {\n",
       "        vertical-align: middle;\n",
       "    }\n",
       "\n",
       "    .dataframe tbody tr th {\n",
       "        vertical-align: top;\n",
       "    }\n",
       "\n",
       "    .dataframe thead th {\n",
       "        text-align: right;\n",
       "    }\n",
       "</style>\n",
       "<table border=\"1\" class=\"dataframe\">\n",
       "  <thead>\n",
       "    <tr style=\"text-align: right;\">\n",
       "      <th></th>\n",
       "      <th>TransactionID</th>\n",
       "      <th>CustomerID</th>\n",
       "      <th>CustomerDOB</th>\n",
       "      <th>CustGender</th>\n",
       "      <th>CustLocation</th>\n",
       "      <th>CustAccountBalance</th>\n",
       "      <th>TransactionDate</th>\n",
       "      <th>TransactionTime</th>\n",
       "      <th>TransactionAmount (INR)</th>\n",
       "    </tr>\n",
       "  </thead>\n",
       "  <tbody>\n",
       "    <tr>\n",
       "      <th>656264</th>\n",
       "      <td>T656265</td>\n",
       "      <td>C3316830</td>\n",
       "      <td>1967-08-03</td>\n",
       "      <td>M</td>\n",
       "      <td>SHILLONG</td>\n",
       "      <td>115035495.1</td>\n",
       "      <td>2016-08-28</td>\n",
       "      <td>231112</td>\n",
       "      <td>28019.32</td>\n",
       "    </tr>\n",
       "    <tr>\n",
       "      <th>826721</th>\n",
       "      <td>T826722</td>\n",
       "      <td>C2216823</td>\n",
       "      <td>1967-08-03</td>\n",
       "      <td>M</td>\n",
       "      <td>SHILLONG</td>\n",
       "      <td>115035495.1</td>\n",
       "      <td>2016-09-04</td>\n",
       "      <td>141239</td>\n",
       "      <td>4699.00</td>\n",
       "    </tr>\n",
       "    <tr>\n",
       "      <th>879623</th>\n",
       "      <td>T879624</td>\n",
       "      <td>C4316889</td>\n",
       "      <td>1967-08-03</td>\n",
       "      <td>M</td>\n",
       "      <td>SHILLONG</td>\n",
       "      <td>115035495.1</td>\n",
       "      <td>2016-09-08</td>\n",
       "      <td>213612</td>\n",
       "      <td>4364.00</td>\n",
       "    </tr>\n",
       "    <tr>\n",
       "      <th>1002847</th>\n",
       "      <td>T1002848</td>\n",
       "      <td>C7716886</td>\n",
       "      <td>1967-08-03</td>\n",
       "      <td>M</td>\n",
       "      <td>SHILLONG</td>\n",
       "      <td>115035495.1</td>\n",
       "      <td>2016-09-14</td>\n",
       "      <td>153335</td>\n",
       "      <td>3604.00</td>\n",
       "    </tr>\n",
       "    <tr>\n",
       "      <th>1002072</th>\n",
       "      <td>T1002073</td>\n",
       "      <td>C5116828</td>\n",
       "      <td>1967-08-03</td>\n",
       "      <td>M</td>\n",
       "      <td>SHILLONG</td>\n",
       "      <td>115035495.1</td>\n",
       "      <td>2016-09-14</td>\n",
       "      <td>151418</td>\n",
       "      <td>5060.00</td>\n",
       "    </tr>\n",
       "    <tr>\n",
       "      <th>789085</th>\n",
       "      <td>T789086</td>\n",
       "      <td>C6416825</td>\n",
       "      <td>1967-08-03</td>\n",
       "      <td>M</td>\n",
       "      <td>SHILLONG</td>\n",
       "      <td>115035495.1</td>\n",
       "      <td>2016-09-05</td>\n",
       "      <td>100606</td>\n",
       "      <td>5864.00</td>\n",
       "    </tr>\n",
       "    <tr>\n",
       "      <th>876392</th>\n",
       "      <td>T876393</td>\n",
       "      <td>C8116818</td>\n",
       "      <td>1967-08-03</td>\n",
       "      <td>M</td>\n",
       "      <td>SHILLONG</td>\n",
       "      <td>115035495.1</td>\n",
       "      <td>2016-09-08</td>\n",
       "      <td>214355</td>\n",
       "      <td>3149.00</td>\n",
       "    </tr>\n",
       "    <tr>\n",
       "      <th>835641</th>\n",
       "      <td>T835642</td>\n",
       "      <td>C2916887</td>\n",
       "      <td>1967-08-03</td>\n",
       "      <td>M</td>\n",
       "      <td>SHILLONG</td>\n",
       "      <td>115035495.1</td>\n",
       "      <td>2016-09-04</td>\n",
       "      <td>93141</td>\n",
       "      <td>600.00</td>\n",
       "    </tr>\n",
       "    <tr>\n",
       "      <th>1001213</th>\n",
       "      <td>T1001214</td>\n",
       "      <td>C5916881</td>\n",
       "      <td>1967-08-03</td>\n",
       "      <td>M</td>\n",
       "      <td>SHILLONG</td>\n",
       "      <td>115035495.1</td>\n",
       "      <td>2016-09-14</td>\n",
       "      <td>160123</td>\n",
       "      <td>1599.00</td>\n",
       "    </tr>\n",
       "    <tr>\n",
       "      <th>1005069</th>\n",
       "      <td>T1005070</td>\n",
       "      <td>C3414471</td>\n",
       "      <td>1931-07-04</td>\n",
       "      <td>F</td>\n",
       "      <td>GURGAON</td>\n",
       "      <td>82244629.9</td>\n",
       "      <td>2016-09-14</td>\n",
       "      <td>165018</td>\n",
       "      <td>3403.00</td>\n",
       "    </tr>\n",
       "  </tbody>\n",
       "</table>\n",
       "</div>"
      ],
      "text/plain": [
       "        TransactionID CustomerID CustomerDOB CustGender CustLocation  \\\n",
       "656264        T656265   C3316830  1967-08-03          M     SHILLONG   \n",
       "826721        T826722   C2216823  1967-08-03          M     SHILLONG   \n",
       "879623        T879624   C4316889  1967-08-03          M     SHILLONG   \n",
       "1002847      T1002848   C7716886  1967-08-03          M     SHILLONG   \n",
       "1002072      T1002073   C5116828  1967-08-03          M     SHILLONG   \n",
       "789085        T789086   C6416825  1967-08-03          M     SHILLONG   \n",
       "876392        T876393   C8116818  1967-08-03          M     SHILLONG   \n",
       "835641        T835642   C2916887  1967-08-03          M     SHILLONG   \n",
       "1001213      T1001214   C5916881  1967-08-03          M     SHILLONG   \n",
       "1005069      T1005070   C3414471  1931-07-04          F      GURGAON   \n",
       "\n",
       "         CustAccountBalance TransactionDate  TransactionTime  \\\n",
       "656264          115035495.1      2016-08-28           231112   \n",
       "826721          115035495.1      2016-09-04           141239   \n",
       "879623          115035495.1      2016-09-08           213612   \n",
       "1002847         115035495.1      2016-09-14           153335   \n",
       "1002072         115035495.1      2016-09-14           151418   \n",
       "789085          115035495.1      2016-09-05           100606   \n",
       "876392          115035495.1      2016-09-08           214355   \n",
       "835641          115035495.1      2016-09-04            93141   \n",
       "1001213         115035495.1      2016-09-14           160123   \n",
       "1005069          82244629.9      2016-09-14           165018   \n",
       "\n",
       "         TransactionAmount (INR)  \n",
       "656264                  28019.32  \n",
       "826721                   4699.00  \n",
       "879623                   4364.00  \n",
       "1002847                  3604.00  \n",
       "1002072                  5060.00  \n",
       "789085                   5864.00  \n",
       "876392                   3149.00  \n",
       "835641                    600.00  \n",
       "1001213                  1599.00  \n",
       "1005069                  3403.00  "
      ]
     },
     "execution_count": 10,
     "metadata": {},
     "output_type": "execute_result"
    }
   ],
   "source": [
    "#When we sort data by \"CustomerDOB\",\"CustGender\", \"CustLocation\" or \"CustAccountBalance\", we can see there is multiple\n",
    "#customerID's with same Date of Birth, Gender, Location and Balance so I find it logical to assume these similar data belongs to\n",
    "#the same person.Instead of grouping data by CustomerID I group data considering columns with same value\n",
    "#I decided to use this method after reading about CEM ŞİRİN's ideas on SLACK\n",
    "check[:10]"
   ]
  },
  {
   "cell_type": "code",
   "execution_count": 11,
   "id": "0827bf0b",
   "metadata": {},
   "outputs": [],
   "source": [
    "#\"CustAccountBalance\" :lambda x:x,\"TransactionDate\": lambda x:x,\"TransactionTime\": lambda x:x ,\"TransactionAmount (INR)\": lambda x: x,\"CustGender\": lambda x:x,\"CustLocation\":lambda x:x"
   ]
  },
  {
   "cell_type": "code",
   "execution_count": 12,
   "id": "45c8da88",
   "metadata": {},
   "outputs": [],
   "source": [
    "grouped=df.groupby([\"CustomerDOB\",\"CustAccountBalance\",\"CustLocation\",\"CustGender\"])\n",
    "grouped_df=grouped.agg({\"TransactionID\": lambda x:x,\"CustomerID\":lambda x:x,\"CustomerDOB\":lambda x:x,\"CustAccountBalance\" :lambda x:np.mean(x),\"TransactionDate\": lambda x:x,\"TransactionAmount (INR)\": lambda x:np.mean(x),\"CustGender\": lambda x:x,\"CustLocation\":lambda x:x})#{\"Transaction#\":lambda x: len(x)} )\n",
    "#lambda x: list(pd.Series.unique(x))"
   ]
  },
  {
   "cell_type": "code",
   "execution_count": 13,
   "id": "11ddaf5d",
   "metadata": {},
   "outputs": [
    {
     "data": {
      "text/html": [
       "<div>\n",
       "<style scoped>\n",
       "    .dataframe tbody tr th:only-of-type {\n",
       "        vertical-align: middle;\n",
       "    }\n",
       "\n",
       "    .dataframe tbody tr th {\n",
       "        vertical-align: top;\n",
       "    }\n",
       "\n",
       "    .dataframe thead th {\n",
       "        text-align: right;\n",
       "    }\n",
       "</style>\n",
       "<table border=\"1\" class=\"dataframe\">\n",
       "  <thead>\n",
       "    <tr style=\"text-align: right;\">\n",
       "      <th></th>\n",
       "      <th></th>\n",
       "      <th></th>\n",
       "      <th></th>\n",
       "      <th>TransactionID</th>\n",
       "      <th>CustomerID</th>\n",
       "      <th>CustomerDOB</th>\n",
       "      <th>CustAccountBalance</th>\n",
       "      <th>TransactionDate</th>\n",
       "      <th>TransactionAmount (INR)</th>\n",
       "      <th>CustGender</th>\n",
       "      <th>CustLocation</th>\n",
       "    </tr>\n",
       "    <tr>\n",
       "      <th>CustomerDOB</th>\n",
       "      <th>CustAccountBalance</th>\n",
       "      <th>CustLocation</th>\n",
       "      <th>CustGender</th>\n",
       "      <th></th>\n",
       "      <th></th>\n",
       "      <th></th>\n",
       "      <th></th>\n",
       "      <th></th>\n",
       "      <th></th>\n",
       "      <th></th>\n",
       "      <th></th>\n",
       "    </tr>\n",
       "  </thead>\n",
       "  <tbody>\n",
       "    <tr>\n",
       "      <th>1905-01-05</th>\n",
       "      <th>5139.73</th>\n",
       "      <th>CHENNAI</th>\n",
       "      <th>F</th>\n",
       "      <td>[T374060, T379954, T908889, T909272, T995752, ...</td>\n",
       "      <td>[C1921885, C8221853, C8721829, C1121811, C8221...</td>\n",
       "      <td>[1905-01-05 00:00:00, 1905-01-05 00:00:00, 190...</td>\n",
       "      <td>5139.73</td>\n",
       "      <td>[2016-08-13 00:00:00, 2016-08-13 00:00:00, 201...</td>\n",
       "      <td>1974.000</td>\n",
       "      <td>[F, F, F, F, F, F, F, F]</td>\n",
       "      <td>[CHENNAI, CHENNAI, CHENNAI, CHENNAI, CHENNAI, ...</td>\n",
       "    </tr>\n",
       "    <tr>\n",
       "      <th>1905-02-23</th>\n",
       "      <th>308733.08</th>\n",
       "      <th>BALOTRA</th>\n",
       "      <th>M</th>\n",
       "      <td>T450450</td>\n",
       "      <td>C8533253</td>\n",
       "      <td>1905-02-23 00:00:00</td>\n",
       "      <td>308733.08</td>\n",
       "      <td>2016-08-16 00:00:00</td>\n",
       "      <td>2184.000</td>\n",
       "      <td>M</td>\n",
       "      <td>BALOTRA</td>\n",
       "    </tr>\n",
       "    <tr>\n",
       "      <th>1905-05-07</th>\n",
       "      <th>15394.67</th>\n",
       "      <th>DELHI</th>\n",
       "      <th>M</th>\n",
       "      <td>[T694698, T718330]</td>\n",
       "      <td>[C8782254, C1382220]</td>\n",
       "      <td>[1905-05-07 00:00:00, 1905-05-07 00:00:00]</td>\n",
       "      <td>15394.67</td>\n",
       "      <td>[2016-08-31 00:00:00, 2016-09-03 00:00:00]</td>\n",
       "      <td>2581.305</td>\n",
       "      <td>[M, M]</td>\n",
       "      <td>[DELHI, DELHI]</td>\n",
       "    </tr>\n",
       "  </tbody>\n",
       "</table>\n",
       "</div>"
      ],
      "text/plain": [
       "                                                                                            TransactionID  \\\n",
       "CustomerDOB CustAccountBalance CustLocation CustGender                                                      \n",
       "1905-01-05  5139.73            CHENNAI      F           [T374060, T379954, T908889, T909272, T995752, ...   \n",
       "1905-02-23  308733.08          BALOTRA      M                                                     T450450   \n",
       "1905-05-07  15394.67           DELHI        M                                          [T694698, T718330]   \n",
       "\n",
       "                                                                                               CustomerID  \\\n",
       "CustomerDOB CustAccountBalance CustLocation CustGender                                                      \n",
       "1905-01-05  5139.73            CHENNAI      F           [C1921885, C8221853, C8721829, C1121811, C8221...   \n",
       "1905-02-23  308733.08          BALOTRA      M                                                    C8533253   \n",
       "1905-05-07  15394.67           DELHI        M                                        [C8782254, C1382220]   \n",
       "\n",
       "                                                                                              CustomerDOB  \\\n",
       "CustomerDOB CustAccountBalance CustLocation CustGender                                                      \n",
       "1905-01-05  5139.73            CHENNAI      F           [1905-01-05 00:00:00, 1905-01-05 00:00:00, 190...   \n",
       "1905-02-23  308733.08          BALOTRA      M                                         1905-02-23 00:00:00   \n",
       "1905-05-07  15394.67           DELHI        M                  [1905-05-07 00:00:00, 1905-05-07 00:00:00]   \n",
       "\n",
       "                                                        CustAccountBalance  \\\n",
       "CustomerDOB CustAccountBalance CustLocation CustGender                       \n",
       "1905-01-05  5139.73            CHENNAI      F                      5139.73   \n",
       "1905-02-23  308733.08          BALOTRA      M                    308733.08   \n",
       "1905-05-07  15394.67           DELHI        M                     15394.67   \n",
       "\n",
       "                                                                                          TransactionDate  \\\n",
       "CustomerDOB CustAccountBalance CustLocation CustGender                                                      \n",
       "1905-01-05  5139.73            CHENNAI      F           [2016-08-13 00:00:00, 2016-08-13 00:00:00, 201...   \n",
       "1905-02-23  308733.08          BALOTRA      M                                         2016-08-16 00:00:00   \n",
       "1905-05-07  15394.67           DELHI        M                  [2016-08-31 00:00:00, 2016-09-03 00:00:00]   \n",
       "\n",
       "                                                        TransactionAmount (INR)  \\\n",
       "CustomerDOB CustAccountBalance CustLocation CustGender                            \n",
       "1905-01-05  5139.73            CHENNAI      F                          1974.000   \n",
       "1905-02-23  308733.08          BALOTRA      M                          2184.000   \n",
       "1905-05-07  15394.67           DELHI        M                          2581.305   \n",
       "\n",
       "                                                                      CustGender  \\\n",
       "CustomerDOB CustAccountBalance CustLocation CustGender                             \n",
       "1905-01-05  5139.73            CHENNAI      F           [F, F, F, F, F, F, F, F]   \n",
       "1905-02-23  308733.08          BALOTRA      M                                  M   \n",
       "1905-05-07  15394.67           DELHI        M                             [M, M]   \n",
       "\n",
       "                                                                                             CustLocation  \n",
       "CustomerDOB CustAccountBalance CustLocation CustGender                                                     \n",
       "1905-01-05  5139.73            CHENNAI      F           [CHENNAI, CHENNAI, CHENNAI, CHENNAI, CHENNAI, ...  \n",
       "1905-02-23  308733.08          BALOTRA      M                                                     BALOTRA  \n",
       "1905-05-07  15394.67           DELHI        M                                              [DELHI, DELHI]  "
      ]
     },
     "execution_count": 13,
     "metadata": {},
     "output_type": "execute_result"
    }
   ],
   "source": [
    "grouped_df[:3]"
   ]
  },
  {
   "cell_type": "code",
   "execution_count": 14,
   "id": "6737f5a7",
   "metadata": {},
   "outputs": [],
   "source": [
    "#grouped_df=grouped.agg({\"TransactionID\": lambda x:x,\"CustomerID\":lambda x:x,\"CustomerDOB\":lambda x:x, \"CustAccountBalance\" :lambda x:x,\"TransactionDate\": lambda x:x,\"TransactionTime\": lambda x:x ,\"TransactionAmount (INR)\": lambda x: x,\"CustGender\": lambda x:x,\"CustLocation\":lambda x:x} )#{\"Transaction#\":lambda x: len(x)} )"
   ]
  },
  {
   "cell_type": "code",
   "execution_count": 15,
   "id": "7b8e6d62",
   "metadata": {},
   "outputs": [],
   "source": [
    "#grouped_df=grouped"
   ]
  },
  {
   "cell_type": "code",
   "execution_count": 16,
   "id": "7807be81",
   "metadata": {
    "scrolled": false
   },
   "outputs": [],
   "source": [
    "#grouped_df=grouped.agg({\"TransactionID\": lambda x:x,\"CustomerID\":lambda x:x,\"CustomerDOB\":lambda x:x, \"CustAccountBalance\" :lambda x:x,\"TransactionDate\": lambda x:x,\"TransactionTime\": lambda x:x ,\"TransactionAmount (INR)\": lambda x: x,\"CustGender\": lambda x:x,\"CustLocation\":lambda x:x} )#{\"Transaction#\":lambda x: len(x)} )"
   ]
  },
  {
   "cell_type": "code",
   "execution_count": 17,
   "id": "d543260a",
   "metadata": {},
   "outputs": [],
   "source": [
    "#a) Number of transactions\n",
    "grouped_df[\"Transaction#\"]=grouped_df[\"TransactionID\"].map(lambda x:1 if type(x)==str else len(x) )\n",
    "\n",
    "#b) Number of transactions with a balance bigger than 100 USD\n",
    "#1 Indian Rupee equals 0.012 United States Dollar (7.12.2022)\n",
    "grouped_df[\"BiggerThan100USD\"]=grouped_df[\"TransactionAmount (INR)\"].map(lambda x: 1 if type(x)==np.float64 and x>8229 else sum(map(lambda a : a>8229, x)) if type(x)==np.ndarray else 0 )\n",
    "\n",
    "#c) Average amount of the transactions\n",
    "grouped_df[\"AverageAmountTransaction\"]=grouped_df[\"TransactionAmount (INR)\"]\n",
    "\n",
    "#d)Average amount of balance\n",
    "grouped_df[\"AverageBalance\"]=grouped_df[\"CustAccountBalance\"]\n",
    "\n",
    "#e) Average difference between the balance and the transaction amount for each customer (utilisation).\n",
    "grouped_df[\"Utilization\"]=grouped_df[\"AverageBalance\"]-grouped_df[\"AverageAmountTransaction\"]\n",
    "\n",
    "#f)Most common gender of the customer\n",
    "#I think \"CustGender\" column does not indicate genders of many customers with different genders but belongs to one person and\n",
    "#the same gender is written as many as this persons Transaction count.\n",
    "grouped_df[\"MostCommonGender\"]=grouped_df[\"CustGender\"].map(lambda x:x if type(x)==str else mode(x))\n",
    "\n",
    "#h) Most frequent location of the customer\n",
    "grouped_df[\"MostCommonLocation\"]=grouped_df[\"CustLocation\"].map(lambda x:x if type(x)==str else mode(x))\n"
   ]
  },
  {
   "cell_type": "markdown",
   "id": "4083fa4b",
   "metadata": {},
   "source": [
    "# 3.Consider at least 20 additional features that can be generated for each CustomerId. Describe each of them and why you believe they will be helpful. Moreover, add it to the previous dataset (the one with seven features). In the end, you should have for each CustomerID at least 27 features (7 recommended + 20 suggested by you).\n",
    "\n",
    "Hints for feature engineering:\n",
    "\n",
    "- Instead of only using the average, you could use other functions such as minimum, maximum, percentiles, etc.\n",
    "- Think of adding filters to your features. For instance, in \"Number of transactions with balance bigger than 100 USD”, \n",
    "  the filter was \"bigger than 100 USD\". Can you think about other filters, even including other variables?\n",
    "- Think of including the information given by the fields transaction date and time in your calculations.\n",
    "- Think about getting information from a customer’s birthday, even comparing it to other fields.\n",
    "- You could also calculate percentages in your features. Think of a plausible set of percentages worth to be calculated."
   ]
  },
  {
   "cell_type": "markdown",
   "id": "3334087a",
   "metadata": {},
   "source": [
    "# FEATURES\n",
    "Age group which has the most balance in the group\n",
    "    #it is known that wealth and age and correlated so this feature can be useful to catch patterns and it is useful for \n",
    "    banks to know which age group they are appealing\n",
    "Age and Gender which has the most balance in the group\n",
    "\n",
    "Location with the highest balance"
   ]
  },
  {
   "cell_type": "markdown",
   "id": "96e5d2f2",
   "metadata": {},
   "source": [
    "###### 1-Maximum Transaction Amount\n",
    "Knowing the highest transaction amount can tell us the understand the economic situation of the user\n"
   ]
  },
  {
   "cell_type": "code",
   "execution_count": 18,
   "id": "1767d083",
   "metadata": {},
   "outputs": [],
   "source": [
    "#grouped_df[\"MaximumTransactionAmount\"]=grouped_df[\"TransactionAmount (INR)\"].map(lambda x: x if type(x)==np.float64 else x.max() )\n",
    "grouped_df[\"MaximumTransactionAmount\"]=grouped.agg({\"TransactionAmount (INR)\": lambda x:np.max(x)})#{\"Transaction#\":lambda x: len(x)} )\n"
   ]
  },
  {
   "cell_type": "markdown",
   "id": "9ab74ec0",
   "metadata": {},
   "source": [
    "###### 2-Minimum Transaction Amount\n",
    "Knowing the lovest transaction amount can tell us the understand the economic situation of the user"
   ]
  },
  {
   "cell_type": "code",
   "execution_count": 19,
   "id": "bd27de21",
   "metadata": {},
   "outputs": [],
   "source": [
    "#grouped_df[\"MinimumTransactionAmount\"]=grouped_df[\"TransactionAmount (INR)\"].map(lambda x: x if type(x)==np.float64 else x.min() )\n",
    "grouped_df[\"MinimumTransactionAmount\"]=grouped.agg({\"TransactionAmount (INR)\": lambda x:np.min(x)})#{\"Transaction#\":lambda x: len(x)} )\n"
   ]
  },
  {
   "cell_type": "markdown",
   "id": "74b93918",
   "metadata": {},
   "source": [
    "###### 3-First Transaction\n"
   ]
  },
  {
   "cell_type": "code",
   "execution_count": 20,
   "id": "60d4ecb4",
   "metadata": {},
   "outputs": [],
   "source": [
    "grouped_df[\"FirstTransaction\"]=grouped_df[\"TransactionDate\"].map(lambda x: x if type(x)==pd.Timestamp else x.min() )"
   ]
  },
  {
   "cell_type": "markdown",
   "id": "fce3dd07",
   "metadata": {},
   "source": [
    "###### 4-Last Transaction\n"
   ]
  },
  {
   "cell_type": "code",
   "execution_count": 21,
   "id": "08d0ee86",
   "metadata": {},
   "outputs": [],
   "source": [
    "grouped_df[\"LastTransaction\"]=grouped_df[\"TransactionDate\"].apply(lambda x: x if type(x)==pd.Timestamp else x.max() )\n"
   ]
  },
  {
   "cell_type": "markdown",
   "id": "5ab1d2f7",
   "metadata": {},
   "source": [
    "###### 5-Recency\n",
    "Knowing how recent a transaction is made can help us understand how relevant the transaction is "
   ]
  },
  {
   "cell_type": "code",
   "execution_count": 22,
   "id": "5cd0334f",
   "metadata": {},
   "outputs": [
    {
     "name": "stdout",
     "output_type": "stream",
     "text": [
      " first transaction= 2016-08-01 00:00:00\n",
      " last transaction= 2016-10-21 00:00:00\n",
      " transaction period 81\n"
     ]
    }
   ],
   "source": [
    "FirstTransaction= grouped_df[\"FirstTransaction\"].min()\n",
    "LastTransaction = grouped_df[\"LastTransaction\"].max()\n",
    "TransactionPeriod=LastTransaction-FirstTransaction\n",
    "print(f\" first transaction= {FirstTransaction}\\n last transaction= {LastTransaction}\\n transaction period {TransactionPeriod.days}\")             \n"
   ]
  },
  {
   "cell_type": "markdown",
   "id": "6d210da8",
   "metadata": {},
   "source": [
    "Recency=(LastTransaction-grouped_df[\"TransactionDate\"][1]).days/TransactionPeriod.days"
   ]
  },
  {
   "cell_type": "code",
   "execution_count": 23,
   "id": "8a60ff2f",
   "metadata": {},
   "outputs": [],
   "source": [
    "#Recency score= 1-(last transaction-transaction date)/transaction period\n",
    "grouped_df['RecencyScore'] = grouped_df.apply(lambda row: 1-((LastTransaction-row.TransactionDate).days/TransactionPeriod.days), axis=1)"
   ]
  },
  {
   "cell_type": "markdown",
   "id": "bf5cd90b",
   "metadata": {},
   "source": [
    "######  6-Age"
   ]
  },
  {
   "cell_type": "code",
   "execution_count": 24,
   "id": "e2a5fc0e",
   "metadata": {},
   "outputs": [],
   "source": [
    "grouped_df['Age'] = grouped_df[\"CustomerDOB\"].map(lambda x:2022-x.year )#agegroup(x) if type(x)==pd.Timestamp else agegroup(x[0])"
   ]
  },
  {
   "cell_type": "markdown",
   "id": "21d56bdb",
   "metadata": {},
   "source": [
    "###### 7-Age Group"
   ]
  },
  {
   "cell_type": "code",
   "execution_count": 25,
   "id": "91297104",
   "metadata": {},
   "outputs": [],
   "source": [
    "def agegroup(year):\n",
    "    if 1992<year.year<=2004:\n",
    "        return \"18-29\"\n",
    "    elif 1982<year.year<=1992:\n",
    "        return \"30-39\"\n",
    "    elif 1972<year.year<=1982:\n",
    "        return \"40-49\"\n",
    "    elif 1962<year.year<=1972:\n",
    "        return \"50-59\"\n",
    "    elif 1952<year.year<=1962:\n",
    "        return \"60-69\"\n",
    "    elif 1942<year.year<=1952:\n",
    "        return \"70-79\"\n",
    "    elif year.year<1942:\n",
    "        return \"bigger than 80\"\n",
    "    else:\n",
    "        return \"noagegroup\"\n",
    "    \n",
    "grouped_df['AgeGroup'] = grouped_df[\"CustomerDOB\"].map(lambda x:agegroup(x) if type(x)==pd.Timestamp else agegroup(x[0]))\n"
   ]
  },
  {
   "cell_type": "markdown",
   "id": "b43fbc77",
   "metadata": {},
   "source": [
    "###### 8-Wealth Ratio\n"
   ]
  },
  {
   "cell_type": "code",
   "execution_count": 26,
   "id": "4a0b6ad8",
   "metadata": {},
   "outputs": [],
   "source": [
    "AllBalance=sum(grouped_df[\"AverageBalance\"])\n",
    "grouped_df[\"WealthRatio\"]=grouped_df[\"AverageBalance\"]/AllBalance\n",
    "#grouped_df.sort_values(by=\"WealthRatio\",ascending=False)[:5]"
   ]
  },
  {
   "cell_type": "markdown",
   "id": "ac9303b0",
   "metadata": {},
   "source": [
    "###### 9-Transaction Volume"
   ]
  },
  {
   "cell_type": "code",
   "execution_count": 27,
   "id": "10fe3846",
   "metadata": {},
   "outputs": [],
   "source": [
    "grouped_df['TransactionVolume'] = grouped.agg({\"TransactionAmount (INR)\": lambda x:np.sum(x)})#{\"Transaction#\":lambda x: len(x)} )\n"
   ]
  },
  {
   "cell_type": "markdown",
   "id": "6ae1b4ac",
   "metadata": {},
   "source": [
    "###### 10-Transactions Ratio"
   ]
  },
  {
   "cell_type": "code",
   "execution_count": 28,
   "id": "dffe36f1",
   "metadata": {},
   "outputs": [],
   "source": [
    "AllTransactions=sum(grouped_df[\"TransactionVolume\"])\n",
    "grouped_df[\"TransactionsRatio\"]=grouped_df[\"TransactionVolume\"]/AllTransactions"
   ]
  },
  {
   "cell_type": "markdown",
   "id": "094be70c",
   "metadata": {},
   "source": [
    "###### 11-Long Time User\n"
   ]
  },
  {
   "cell_type": "code",
   "execution_count": 29,
   "id": "40a2cdbe",
   "metadata": {},
   "outputs": [],
   "source": [
    "grouped_df[\"LongTimeUser\"]=grouped_df[\"TransactionDate\"].map(lambda x:0 if type(x)==pd.Timestamp else (max(x)-min(x)).days)"
   ]
  },
  {
   "cell_type": "markdown",
   "id": "1cb7ca2b",
   "metadata": {},
   "source": [
    "###### 12-Long Time User Percentile"
   ]
  },
  {
   "cell_type": "code",
   "execution_count": 30,
   "id": "47cdd8fa",
   "metadata": {},
   "outputs": [],
   "source": [
    "grouped_df.rename(columns = {'TransactionAmount (INR)':'TransactionAmountINR'}, inplace = True)"
   ]
  },
  {
   "cell_type": "code",
   "execution_count": 31,
   "id": "2643e3a1",
   "metadata": {},
   "outputs": [],
   "source": [
    "grouped_df[\"LongTimeUser%\"]=grouped_df[\"LongTimeUser\"].map(lambda row:stats.percentileofscore(grouped_df[\"TransactionVolume\"]/100, row))"
   ]
  },
  {
   "cell_type": "markdown",
   "id": "a144c809",
   "metadata": {},
   "source": [
    "###### 13-Transaction Amount  Percentile"
   ]
  },
  {
   "cell_type": "code",
   "execution_count": 32,
   "id": "fefafa12",
   "metadata": {},
   "outputs": [],
   "source": [
    "grouped_df[\"TransactionAmountINR%\"]=grouped_df[\"TransactionAmountINR\"].map(lambda row:stats.percentileofscore(grouped_df[\"TransactionAmountINR\"], row))"
   ]
  },
  {
   "cell_type": "markdown",
   "id": "912c15b2",
   "metadata": {},
   "source": [
    "###### 14-Wealth Ratio Percentile"
   ]
  },
  {
   "cell_type": "code",
   "execution_count": 33,
   "id": "16ca0650",
   "metadata": {},
   "outputs": [],
   "source": [
    "grouped_df[\"WealthRatio%\"]=grouped_df[\"WealthRatio\"].map(lambda row:stats.percentileofscore(grouped_df[\"WealthRatio\"], row))"
   ]
  },
  {
   "cell_type": "markdown",
   "id": "453097e7",
   "metadata": {},
   "source": [
    "###### 15-Transaction# Ratio Percentile"
   ]
  },
  {
   "cell_type": "code",
   "execution_count": 34,
   "id": "a4b3fdf8",
   "metadata": {},
   "outputs": [],
   "source": [
    "grouped_df[\"Transaction#%\"]=grouped_df[\"Transaction#\"].map(lambda row:stats.percentileofscore(grouped_df[\"Transaction#\"], row))"
   ]
  },
  {
   "cell_type": "markdown",
   "id": "5942f8a8",
   "metadata": {},
   "source": [
    "###### 16-Balance Ratio Percentile"
   ]
  },
  {
   "cell_type": "code",
   "execution_count": 35,
   "id": "378fecd4",
   "metadata": {},
   "outputs": [],
   "source": [
    "grouped_df[\"CustAccountBalance%\"]=grouped_df[\"CustAccountBalance\"].map(lambda row:stats.percentileofscore(grouped_df[\"CustAccountBalance\"], row))"
   ]
  },
  {
   "cell_type": "markdown",
   "id": "71e6eaa2",
   "metadata": {},
   "source": [
    "###### 17-Transaction Amount In Dollars\n"
   ]
  },
  {
   "cell_type": "code",
   "execution_count": 36,
   "id": "c1454a5f",
   "metadata": {},
   "outputs": [],
   "source": [
    "#1 Indian Rupee equals 0.012 United States Dollar (7.12.2022)\n",
    "grouped_df[\"TransactionAmountUSD\"]=grouped_df[\"TransactionAmountINR\"].map(lambda x:0.012*x)\n"
   ]
  },
  {
   "cell_type": "markdown",
   "id": "b9f720a3",
   "metadata": {},
   "source": [
    "##### 18-Transaction Frequency by Months\n"
   ]
  },
  {
   "cell_type": "code",
   "execution_count": 37,
   "id": "2501ac19",
   "metadata": {},
   "outputs": [],
   "source": [
    "def TransactionFreqOneMonth(TransactionDate):\n",
    "    Months=[0,0,0,0,0,0,0,0,0,0,0,0]\n",
    "    Months[TransactionDate.month-1]=+1\n",
    "    return Months\n",
    "\n",
    "\n",
    "def TransactionFrequency(TransactionDate):\n",
    "    Months=[0,0,0,0,0,0,0,0,0,0,0,0]\n",
    "    for i in TransactionDate:\n",
    "        Months[(i.month)-1]=+1\n",
    "    return Months\n",
    "\n",
    "grouped_df[\"TransactionFrequencybyMonth\"]=grouped_df.apply(lambda row:TransactionFreqOneMonth(row.TransactionDate) if type(row.TransactionDate)==pd.Timestamp else TransactionFrequency(row.TransactionDate),axis=1) "
   ]
  },
  {
   "cell_type": "markdown",
   "id": "f2583da3",
   "metadata": {},
   "source": [
    "###### 19-Most transaction count in a month \n"
   ]
  },
  {
   "cell_type": "code",
   "execution_count": 38,
   "id": "5135206d",
   "metadata": {},
   "outputs": [],
   "source": [
    "months=[\"January\",\"February\",\"March\",\"April\",\"May\",\"June\",\"July\",\"August\", \"September\", \"October\", \"November\", \"December\"]\n",
    "\n",
    "grouped_df[\"MostTransactionsInMonth\"]=grouped_df[\"TransactionFrequencybyMonth\"].map(lambda x:months[x.index(max(x))])"
   ]
  },
  {
   "cell_type": "markdown",
   "id": "c5c6920a",
   "metadata": {},
   "source": [
    "###### 20-Frequency Ratio of User\n"
   ]
  },
  {
   "cell_type": "code",
   "execution_count": 39,
   "id": "2f57b0c4",
   "metadata": {},
   "outputs": [],
   "source": [
    "AllTransactions=sum(grouped_df[\"Transaction#\"])\n",
    "grouped_df[\"FrequencyRatio\"]=grouped_df[\"Transaction#\"]/AllTransactions"
   ]
  },
  {
   "cell_type": "markdown",
   "id": "1388edba",
   "metadata": {},
   "source": [
    "# 2.2 Choose your features (variables)!\n"
   ]
  },
  {
   "cell_type": "markdown",
   "id": "903bb029",
   "metadata": {},
   "source": [
    "#I choose to apply FAMD so I can use both categorical and Continious data"
   ]
  },
  {
   "cell_type": "markdown",
   "id": "34293379",
   "metadata": {},
   "source": [
    "#I need to edit all transaction based features because it cannot used as caterogical data"
   ]
  },
  {
   "cell_type": "markdown",
   "id": "7a185bc6",
   "metadata": {},
   "source": [
    "Normalisation"
   ]
  },
  {
   "cell_type": "code",
   "execution_count": null,
   "id": "e26241be",
   "metadata": {},
   "outputs": [],
   "source": [
    "\"\"\"grouped_df[\"Transaction#\"]=grouped_df[\"Transaction#\"].map(lambda x:x/(max(grouped_df[\"Transaction#\"])-min(grouped_df[\"Transaction#\"]))\n",
    "###### 1-Maximum Transaction Amount\n",
    "grouped_df[\"MaximumTransactionAmount\"]=grouped_df[\"MaximumTransactionAmount\"].map(lambda x:x/(max(grouped_df[\"MaximumTransactionAmount\"])-min(grouped_df[\"MaximumTransactionAmount\"]))\n",
    "###### 2-Minimum Transaction Amount\n",
    "grouped_df[\"MinimumTransactionAmount\"]=grouped_df[\"MinimumTransactionAmount\"].map(lambda x:x/(max(grouped_df[\"MinimumTransactionAmount\"])-min(grouped_df[\"MinimumTransactionAmount\"]))\n",
    "###### 3-First Transaction\n",
    "grouped_df[\"FirstTransaction\"]=grouped_df[\"FirstTransaction\"].map(lambda x:x/(max(grouped_df[\"FirstTransaction\"])-min(grouped_df[\"FirstTransaction\"]))\n",
    "###### 4-Last Transaction\n",
    "grouped_df[\"LastTransaction\"]=grouped_df[\"LastTransaction\"].map(lambda x:x/(max(grouped_df[\"LastTransaction\"])-min(grouped_df[\"LastTransaction\"]))\n",
    "###### 5-Recency\n",
    "grouped_df['RecencyScore']=grouped_df[\"RecencyScore\"].map(lambda x:x/(max(grouped_df[\"RecencyScore\"])-min(grouped_df[\"RecencyScore\"]))\n",
    "grouped_df['Age']=grouped_df[\"Age\"].map(lambda x:x/(max(grouped_df[\"Age\"])-min(grouped_df[\"Age\"]))\n",
    "grouped_df[\"WealthRatio\"]=grouped_df[\"WealthRatio\"].map(lambda x:x/(max(grouped_df[\"WealthRatio\"])-min(grouped_df[\"WealthRatio\"]))\n",
    "grouped_df['TransactionVolume']=grouped_df[\"TransactionVolume\"].map(lambda x:x/(max(grouped_df[\"TransactionVolume\"])-min(grouped_df[\"TransactionVolume\"]))\n",
    "grouped_df[\"TransactionsRatio\"]=grouped_df[\"TransactionsRatio\"].map(lambda x:x/(max(grouped_df[\"TransactionsRatio\"])-min(grouped_df[\"TransactionsRatio\"]))\n",
    "grouped_df[\"LongTimeUser\"]=grouped_df[\"LongTimeUser\"].map(lambda x:x/(max(grouped_df[\"LongTimeUser\"])-min(grouped_df[\"LongTimeUser\"]))\n",
    "grouped_df[\"LongTimeUser%\"]=grouped_df[\"LongTimeUser%\"].map(lambda x:x/(max(grouped_df[\"LongTimeUser%\"])-min(grouped_df[\"LongTimeUser%\"]))\n",
    "grouped_df[\"TransactionAmountINR%\"]=grouped_df[\"TransactionAmountINR%\"].map(lambda x:x/(max(grouped_df[\"TransactionAmountINR%\"])-min(grouped_df[\"TransactionAmountINR%\"]))\n",
    "grouped_df[\"WealthRatio%\"]=grouped_df[\"WealthRatio%\"].map(lambda x:x/(max(grouped_df[\"WealthRatio%\"])-min(grouped_df[\"WealthRatio%\"]))\n",
    "grouped_df[\"Transaction#%\"]=grouped_df[\"Transaction#%\"].map(lambda x:x/(max(grouped_df[\"Transaction#%\"])-min(grouped_df[\"Transaction#%\"]))\n",
    "grouped_df[\"CustAccountBalance%\"]=grouped_df[\"CustAccountBalance%\"].map(lambda x:x/(max(grouped_df[\"CustAccountBalance%\"])-min(grouped_df[\"CustAccountBalance%\"]))\n",
    "grouped_df[\"TransactionAmountUSD\"]=grouped_df[\"TransactionAmountUSD\"].map(lambda x:x/(max(grouped_df[\"TransactionAmountUSD\"])-min(grouped_df[\"TransactionAmountUSD\"]))\n",
    "grouped_df[\"TransactionFrequencybyMonth\"]=grouped_df[\"TransactionFrequencybyMonth\"].map(lambda x:x/(max(grouped_df[\"TransactionFrequencybyMonth\"])-min(grouped_df[\"TransactionFrequencybyMonth\"]))\n",
    "grouped_df[\"MostTransactionsInMonth\"]=grouped_df[\"MostTransactionsInMonth\"].map(lambda x:x/(max(grouped_df[\"MostTransactionsInMonth\"])-min(grouped_df[\"MostTransactionsInMonth\"]))\n",
    "grouped_df[\"FrequencyRatio\"]=grouped_df[\"FrequencyRatio\"].map(lambda x:x/(max(grouped_df[\"FrequencyRatio\"])-min(grouped_df[\"FrequencyRatio\"]))\"\"\""
   ]
  },
  {
   "cell_type": "code",
   "execution_count": 82,
   "id": "a843e32f",
   "metadata": {},
   "outputs": [
    {
     "data": {
      "text/html": [
       "<div>\n",
       "<style scoped>\n",
       "    .dataframe tbody tr th:only-of-type {\n",
       "        vertical-align: middle;\n",
       "    }\n",
       "\n",
       "    .dataframe tbody tr th {\n",
       "        vertical-align: top;\n",
       "    }\n",
       "\n",
       "    .dataframe thead th {\n",
       "        text-align: right;\n",
       "    }\n",
       "</style>\n",
       "<table border=\"1\" class=\"dataframe\">\n",
       "  <thead>\n",
       "    <tr style=\"text-align: right;\">\n",
       "      <th></th>\n",
       "      <th></th>\n",
       "      <th></th>\n",
       "      <th></th>\n",
       "      <th>CustomerDOB</th>\n",
       "      <th>CustAccountBalance</th>\n",
       "      <th>TransactionAmountINR</th>\n",
       "      <th>CustGender</th>\n",
       "      <th>CustLocation</th>\n",
       "      <th>Transaction#</th>\n",
       "      <th>BiggerThan100USD</th>\n",
       "      <th>AverageAmountTransaction</th>\n",
       "      <th>AverageBalance</th>\n",
       "      <th>Utilization</th>\n",
       "      <th>...</th>\n",
       "      <th>TransactionsRatio</th>\n",
       "      <th>LongTimeUser</th>\n",
       "      <th>LongTimeUser%</th>\n",
       "      <th>TransactionAmountINR%</th>\n",
       "      <th>WealthRatio%</th>\n",
       "      <th>Transaction#%</th>\n",
       "      <th>CustAccountBalance%</th>\n",
       "      <th>TransactionAmountUSD</th>\n",
       "      <th>MostTransactionsInMonth</th>\n",
       "      <th>FrequencyRatio</th>\n",
       "    </tr>\n",
       "    <tr>\n",
       "      <th>CustomerDOB</th>\n",
       "      <th>CustAccountBalance</th>\n",
       "      <th>CustLocation</th>\n",
       "      <th>CustGender</th>\n",
       "      <th></th>\n",
       "      <th></th>\n",
       "      <th></th>\n",
       "      <th></th>\n",
       "      <th></th>\n",
       "      <th></th>\n",
       "      <th></th>\n",
       "      <th></th>\n",
       "      <th></th>\n",
       "      <th></th>\n",
       "      <th></th>\n",
       "      <th></th>\n",
       "      <th></th>\n",
       "      <th></th>\n",
       "      <th></th>\n",
       "      <th></th>\n",
       "      <th></th>\n",
       "      <th></th>\n",
       "      <th></th>\n",
       "      <th></th>\n",
       "      <th></th>\n",
       "    </tr>\n",
       "  </thead>\n",
       "  <tbody>\n",
       "    <tr>\n",
       "      <th>1905-01-05</th>\n",
       "      <th>5139.73</th>\n",
       "      <th>CHENNAI</th>\n",
       "      <th>F</th>\n",
       "      <td>1905/01/05</td>\n",
       "      <td>5139.73</td>\n",
       "      <td>1974.000</td>\n",
       "      <td>F</td>\n",
       "      <td>CHENNAI</td>\n",
       "      <td>8</td>\n",
       "      <td>0</td>\n",
       "      <td>1974.000</td>\n",
       "      <td>5139.73</td>\n",
       "      <td>3165.730</td>\n",
       "      <td>...</td>\n",
       "      <td>1.018240e-05</td>\n",
       "      <td>32</td>\n",
       "      <td>53.932719</td>\n",
       "      <td>78.980108</td>\n",
       "      <td>30.735915</td>\n",
       "      <td>77.426756</td>\n",
       "      <td>30.735915</td>\n",
       "      <td>23.68800</td>\n",
       "      <td>August</td>\n",
       "      <td>0.000008</td>\n",
       "    </tr>\n",
       "    <tr>\n",
       "      <th>1905-02-23</th>\n",
       "      <th>308733.08</th>\n",
       "      <th>BALOTRA</th>\n",
       "      <th>M</th>\n",
       "      <td>1905/02/23</td>\n",
       "      <td>308733.08</td>\n",
       "      <td>2184.000</td>\n",
       "      <td>M</td>\n",
       "      <td>BALOTRA</td>\n",
       "      <td>1</td>\n",
       "      <td>0</td>\n",
       "      <td>2184.000</td>\n",
       "      <td>308733.08</td>\n",
       "      <td>306549.080</td>\n",
       "      <td>...</td>\n",
       "      <td>1.408204e-06</td>\n",
       "      <td>0</td>\n",
       "      <td>0.017996</td>\n",
       "      <td>81.544834</td>\n",
       "      <td>93.881371</td>\n",
       "      <td>13.816105</td>\n",
       "      <td>93.881371</td>\n",
       "      <td>26.20800</td>\n",
       "      <td>August</td>\n",
       "      <td>0.000001</td>\n",
       "    </tr>\n",
       "    <tr>\n",
       "      <th>1905-05-07</th>\n",
       "      <th>15394.67</th>\n",
       "      <th>DELHI</th>\n",
       "      <th>M</th>\n",
       "      <td>1905/05/07</td>\n",
       "      <td>15394.67</td>\n",
       "      <td>2581.305</td>\n",
       "      <td>M</td>\n",
       "      <td>DELHI</td>\n",
       "      <td>2</td>\n",
       "      <td>0</td>\n",
       "      <td>2581.305</td>\n",
       "      <td>15394.67</td>\n",
       "      <td>12813.365</td>\n",
       "      <td>...</td>\n",
       "      <td>3.328759e-06</td>\n",
       "      <td>3</td>\n",
       "      <td>11.142504</td>\n",
       "      <td>84.846794</td>\n",
       "      <td>52.646007</td>\n",
       "      <td>35.485051</td>\n",
       "      <td>52.646007</td>\n",
       "      <td>30.97566</td>\n",
       "      <td>August</td>\n",
       "      <td>0.000002</td>\n",
       "    </tr>\n",
       "    <tr>\n",
       "      <th>1905-06-06</th>\n",
       "      <th>5857.21</th>\n",
       "      <th>DELHI</th>\n",
       "      <th>M</th>\n",
       "      <td>1905/06/06</td>\n",
       "      <td>5857.21</td>\n",
       "      <td>1717.000</td>\n",
       "      <td>M</td>\n",
       "      <td>DELHI</td>\n",
       "      <td>2</td>\n",
       "      <td>0</td>\n",
       "      <td>1717.000</td>\n",
       "      <td>5857.21</td>\n",
       "      <td>4140.210</td>\n",
       "      <td>...</td>\n",
       "      <td>2.214182e-06</td>\n",
       "      <td>5</td>\n",
       "      <td>16.789339</td>\n",
       "      <td>75.570172</td>\n",
       "      <td>32.831246</td>\n",
       "      <td>35.485051</td>\n",
       "      <td>32.831246</td>\n",
       "      <td>20.60400</td>\n",
       "      <td>August</td>\n",
       "      <td>0.000002</td>\n",
       "    </tr>\n",
       "    <tr>\n",
       "      <th>1905-07-11</th>\n",
       "      <th>9405.38</th>\n",
       "      <th>CHANDIGARH</th>\n",
       "      <th>M</th>\n",
       "      <td>1905/07/11</td>\n",
       "      <td>9405.38</td>\n",
       "      <td>732.000</td>\n",
       "      <td>M</td>\n",
       "      <td>CHANDIGARH</td>\n",
       "      <td>1</td>\n",
       "      <td>0</td>\n",
       "      <td>732.000</td>\n",
       "      <td>9405.38</td>\n",
       "      <td>8673.380</td>\n",
       "      <td>...</td>\n",
       "      <td>4.719805e-07</td>\n",
       "      <td>0</td>\n",
       "      <td>0.017996</td>\n",
       "      <td>48.443049</td>\n",
       "      <td>41.352637</td>\n",
       "      <td>13.816105</td>\n",
       "      <td>41.352637</td>\n",
       "      <td>8.78400</td>\n",
       "      <td>August</td>\n",
       "      <td>0.000001</td>\n",
       "    </tr>\n",
       "  </tbody>\n",
       "</table>\n",
       "<p>5 rows × 31 columns</p>\n",
       "</div>"
      ],
      "text/plain": [
       "                                                       CustomerDOB  \\\n",
       "CustomerDOB CustAccountBalance CustLocation CustGender               \n",
       "1905-01-05  5139.73            CHENNAI      F           1905/01/05   \n",
       "1905-02-23  308733.08          BALOTRA      M           1905/02/23   \n",
       "1905-05-07  15394.67           DELHI        M           1905/05/07   \n",
       "1905-06-06  5857.21            DELHI        M           1905/06/06   \n",
       "1905-07-11  9405.38            CHANDIGARH   M           1905/07/11   \n",
       "\n",
       "                                                        CustAccountBalance  \\\n",
       "CustomerDOB CustAccountBalance CustLocation CustGender                       \n",
       "1905-01-05  5139.73            CHENNAI      F                      5139.73   \n",
       "1905-02-23  308733.08          BALOTRA      M                    308733.08   \n",
       "1905-05-07  15394.67           DELHI        M                     15394.67   \n",
       "1905-06-06  5857.21            DELHI        M                      5857.21   \n",
       "1905-07-11  9405.38            CHANDIGARH   M                      9405.38   \n",
       "\n",
       "                                                        TransactionAmountINR  \\\n",
       "CustomerDOB CustAccountBalance CustLocation CustGender                         \n",
       "1905-01-05  5139.73            CHENNAI      F                       1974.000   \n",
       "1905-02-23  308733.08          BALOTRA      M                       2184.000   \n",
       "1905-05-07  15394.67           DELHI        M                       2581.305   \n",
       "1905-06-06  5857.21            DELHI        M                       1717.000   \n",
       "1905-07-11  9405.38            CHANDIGARH   M                        732.000   \n",
       "\n",
       "                                                       CustGender  \\\n",
       "CustomerDOB CustAccountBalance CustLocation CustGender              \n",
       "1905-01-05  5139.73            CHENNAI      F                   F   \n",
       "1905-02-23  308733.08          BALOTRA      M                   M   \n",
       "1905-05-07  15394.67           DELHI        M                   M   \n",
       "1905-06-06  5857.21            DELHI        M                   M   \n",
       "1905-07-11  9405.38            CHANDIGARH   M                   M   \n",
       "\n",
       "                                                       CustLocation  \\\n",
       "CustomerDOB CustAccountBalance CustLocation CustGender                \n",
       "1905-01-05  5139.73            CHENNAI      F               CHENNAI   \n",
       "1905-02-23  308733.08          BALOTRA      M               BALOTRA   \n",
       "1905-05-07  15394.67           DELHI        M                 DELHI   \n",
       "1905-06-06  5857.21            DELHI        M                 DELHI   \n",
       "1905-07-11  9405.38            CHANDIGARH   M            CHANDIGARH   \n",
       "\n",
       "                                                        Transaction#  \\\n",
       "CustomerDOB CustAccountBalance CustLocation CustGender                 \n",
       "1905-01-05  5139.73            CHENNAI      F                      8   \n",
       "1905-02-23  308733.08          BALOTRA      M                      1   \n",
       "1905-05-07  15394.67           DELHI        M                      2   \n",
       "1905-06-06  5857.21            DELHI        M                      2   \n",
       "1905-07-11  9405.38            CHANDIGARH   M                      1   \n",
       "\n",
       "                                                        BiggerThan100USD  \\\n",
       "CustomerDOB CustAccountBalance CustLocation CustGender                     \n",
       "1905-01-05  5139.73            CHENNAI      F                          0   \n",
       "1905-02-23  308733.08          BALOTRA      M                          0   \n",
       "1905-05-07  15394.67           DELHI        M                          0   \n",
       "1905-06-06  5857.21            DELHI        M                          0   \n",
       "1905-07-11  9405.38            CHANDIGARH   M                          0   \n",
       "\n",
       "                                                        AverageAmountTransaction  \\\n",
       "CustomerDOB CustAccountBalance CustLocation CustGender                             \n",
       "1905-01-05  5139.73            CHENNAI      F                           1974.000   \n",
       "1905-02-23  308733.08          BALOTRA      M                           2184.000   \n",
       "1905-05-07  15394.67           DELHI        M                           2581.305   \n",
       "1905-06-06  5857.21            DELHI        M                           1717.000   \n",
       "1905-07-11  9405.38            CHANDIGARH   M                            732.000   \n",
       "\n",
       "                                                        AverageBalance  \\\n",
       "CustomerDOB CustAccountBalance CustLocation CustGender                   \n",
       "1905-01-05  5139.73            CHENNAI      F                  5139.73   \n",
       "1905-02-23  308733.08          BALOTRA      M                308733.08   \n",
       "1905-05-07  15394.67           DELHI        M                 15394.67   \n",
       "1905-06-06  5857.21            DELHI        M                  5857.21   \n",
       "1905-07-11  9405.38            CHANDIGARH   M                  9405.38   \n",
       "\n",
       "                                                        Utilization  ...  \\\n",
       "CustomerDOB CustAccountBalance CustLocation CustGender               ...   \n",
       "1905-01-05  5139.73            CHENNAI      F              3165.730  ...   \n",
       "1905-02-23  308733.08          BALOTRA      M            306549.080  ...   \n",
       "1905-05-07  15394.67           DELHI        M             12813.365  ...   \n",
       "1905-06-06  5857.21            DELHI        M              4140.210  ...   \n",
       "1905-07-11  9405.38            CHANDIGARH   M              8673.380  ...   \n",
       "\n",
       "                                                       TransactionsRatio  \\\n",
       "CustomerDOB CustAccountBalance CustLocation CustGender                     \n",
       "1905-01-05  5139.73            CHENNAI      F               1.018240e-05   \n",
       "1905-02-23  308733.08          BALOTRA      M               1.408204e-06   \n",
       "1905-05-07  15394.67           DELHI        M               3.328759e-06   \n",
       "1905-06-06  5857.21            DELHI        M               2.214182e-06   \n",
       "1905-07-11  9405.38            CHANDIGARH   M               4.719805e-07   \n",
       "\n",
       "                                                       LongTimeUser  \\\n",
       "CustomerDOB CustAccountBalance CustLocation CustGender                \n",
       "1905-01-05  5139.73            CHENNAI      F                    32   \n",
       "1905-02-23  308733.08          BALOTRA      M                     0   \n",
       "1905-05-07  15394.67           DELHI        M                     3   \n",
       "1905-06-06  5857.21            DELHI        M                     5   \n",
       "1905-07-11  9405.38            CHANDIGARH   M                     0   \n",
       "\n",
       "                                                        LongTimeUser%  \\\n",
       "CustomerDOB CustAccountBalance CustLocation CustGender                  \n",
       "1905-01-05  5139.73            CHENNAI      F               53.932719   \n",
       "1905-02-23  308733.08          BALOTRA      M                0.017996   \n",
       "1905-05-07  15394.67           DELHI        M               11.142504   \n",
       "1905-06-06  5857.21            DELHI        M               16.789339   \n",
       "1905-07-11  9405.38            CHANDIGARH   M                0.017996   \n",
       "\n",
       "                                                        TransactionAmountINR%  \\\n",
       "CustomerDOB CustAccountBalance CustLocation CustGender                          \n",
       "1905-01-05  5139.73            CHENNAI      F                       78.980108   \n",
       "1905-02-23  308733.08          BALOTRA      M                       81.544834   \n",
       "1905-05-07  15394.67           DELHI        M                       84.846794   \n",
       "1905-06-06  5857.21            DELHI        M                       75.570172   \n",
       "1905-07-11  9405.38            CHANDIGARH   M                       48.443049   \n",
       "\n",
       "                                                       WealthRatio%  \\\n",
       "CustomerDOB CustAccountBalance CustLocation CustGender                \n",
       "1905-01-05  5139.73            CHENNAI      F             30.735915   \n",
       "1905-02-23  308733.08          BALOTRA      M             93.881371   \n",
       "1905-05-07  15394.67           DELHI        M             52.646007   \n",
       "1905-06-06  5857.21            DELHI        M             32.831246   \n",
       "1905-07-11  9405.38            CHANDIGARH   M             41.352637   \n",
       "\n",
       "                                                       Transaction#%  \\\n",
       "CustomerDOB CustAccountBalance CustLocation CustGender                 \n",
       "1905-01-05  5139.73            CHENNAI      F              77.426756   \n",
       "1905-02-23  308733.08          BALOTRA      M              13.816105   \n",
       "1905-05-07  15394.67           DELHI        M              35.485051   \n",
       "1905-06-06  5857.21            DELHI        M              35.485051   \n",
       "1905-07-11  9405.38            CHANDIGARH   M              13.816105   \n",
       "\n",
       "                                                        CustAccountBalance%  \\\n",
       "CustomerDOB CustAccountBalance CustLocation CustGender                        \n",
       "1905-01-05  5139.73            CHENNAI      F                     30.735915   \n",
       "1905-02-23  308733.08          BALOTRA      M                     93.881371   \n",
       "1905-05-07  15394.67           DELHI        M                     52.646007   \n",
       "1905-06-06  5857.21            DELHI        M                     32.831246   \n",
       "1905-07-11  9405.38            CHANDIGARH   M                     41.352637   \n",
       "\n",
       "                                                        TransactionAmountUSD  \\\n",
       "CustomerDOB CustAccountBalance CustLocation CustGender                         \n",
       "1905-01-05  5139.73            CHENNAI      F                       23.68800   \n",
       "1905-02-23  308733.08          BALOTRA      M                       26.20800   \n",
       "1905-05-07  15394.67           DELHI        M                       30.97566   \n",
       "1905-06-06  5857.21            DELHI        M                       20.60400   \n",
       "1905-07-11  9405.38            CHANDIGARH   M                        8.78400   \n",
       "\n",
       "                                                       MostTransactionsInMonth  \\\n",
       "CustomerDOB CustAccountBalance CustLocation CustGender                           \n",
       "1905-01-05  5139.73            CHENNAI      F                           August   \n",
       "1905-02-23  308733.08          BALOTRA      M                           August   \n",
       "1905-05-07  15394.67           DELHI        M                           August   \n",
       "1905-06-06  5857.21            DELHI        M                           August   \n",
       "1905-07-11  9405.38            CHANDIGARH   M                           August   \n",
       "\n",
       "                                                        FrequencyRatio  \n",
       "CustomerDOB CustAccountBalance CustLocation CustGender                  \n",
       "1905-01-05  5139.73            CHENNAI      F                 0.000008  \n",
       "1905-02-23  308733.08          BALOTRA      M                 0.000001  \n",
       "1905-05-07  15394.67           DELHI        M                 0.000002  \n",
       "1905-06-06  5857.21            DELHI        M                 0.000002  \n",
       "1905-07-11  9405.38            CHANDIGARH   M                 0.000001  \n",
       "\n",
       "[5 rows x 31 columns]"
      ]
     },
     "execution_count": 82,
     "metadata": {},
     "output_type": "execute_result"
    }
   ],
   "source": [
    "grouped_df.pop(\"TransactionID\")\n",
    "grouped_df.pop(\"CustomerID\")\n",
    "grouped_df[\"CustomerDOB\"]=grouped_df[\"CustomerDOB\"].map(lambda x:x.strftime(\"%Y/%m/%d\" ) if type(x)==pd.Timestamp else x[0].strftime(\"%Y/%m/%d\" ))\n",
    "grouped_df[\"CustAccountBalance\"]=grouped_df[\"CustAccountBalance\"].map(lambda x:x if type(x)==np.float64 else x[0])\n",
    "grouped_df.pop(\"TransactionDate\")\n",
    "grouped_df.pop(\"TransactionAmountINR\")\n",
    "grouped_df[\"CustGender\"]=grouped_df[\"CustGender\"].map(lambda x:x if type(x)==str else x[0])\n",
    "grouped_df[\"CustLocation\"]=grouped_df[\"CustLocation\"].map(lambda x:x if type(x)==str else x[0])\n",
    "grouped_df[\"FirstTransaction\"]=grouped_df[\"FirstTransaction\"].map(lambda x:x.strftime(\"%Y/%m/%d\" ) if type(x)==pd.Timestamp else x[0].strftime(\"%Y/%m/%d\" ))\n",
    "grouped_df[\"LastTransaction\"]=grouped_df[\"LastTransaction\"].map(lambda x:x.strftime(\"%Y/%m/%d\" ) if type(x)==pd.Timestamp else x[0].strftime(\"%Y/%m/%d\" ))\n",
    "grouped_df[\"RecencyScore\"]=grouped_df[\"RecencyScore\"].map(lambda x:x if type(x)==float else x.mean())\n",
    "grouped_df[\"BiggestTransactionDay\"]=grouped_df[\"BiggestTransactionDay\"].map(lambda x:x.strftime(\"%Y/%m/%d\" ) if type(x)==pd.Timestamp else x[0].strftime(\"%Y/%m/%d\" ))\n",
    "grouped_df.pop(\"TransactionFrequencybyMonth\")\n",
    "grouped_df.drop(columns=\"TransactionVolumeINRbyMonth\")\n",
    "grouped_df.pop(\"TransactionVolumeINRbyMonth\")\n",
    "grouped_df[\"Age\"]=grouped_df[\"Age\"].map(lambda x:x if type(x)==int else x[0])\n",
    "grouped_df[:5]\n"
   ]
  },
  {
   "cell_type": "code",
   "execution_count": null,
   "id": "dbe565a9",
   "metadata": {},
   "outputs": [],
   "source": [
    "from prince import FAMD\n",
    "famd = FAMD(n_components =5, n_iter = 5, random_state = 50)\n",
    "famd.fit(grouped_df[:5])\n",
    "famd.transform(grouped_df[:5])\n",
    "famd.plot_row_coordinates(grouped_df,figsize=(10, 10) )"
   ]
  }
 ],
 "metadata": {
  "kernelspec": {
   "display_name": "Python 3 (ipykernel)",
   "language": "python",
   "name": "python3"
  },
  "language_info": {
   "codemirror_mode": {
    "name": "ipython",
    "version": 3
   },
   "file_extension": ".py",
   "mimetype": "text/x-python",
   "name": "python",
   "nbconvert_exporter": "python",
   "pygments_lexer": "ipython3",
   "version": "3.9.12"
  }
 },
 "nbformat": 4,
 "nbformat_minor": 5
}
